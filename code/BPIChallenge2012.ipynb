{
 "cells": [
  {
   "cell_type": "markdown",
   "metadata": {},
   "source": [
    "# Evaluation task\n",
    "Using the BPI Challenge 2012 dataset we will showcase the indicators that serve in guiding the identification of tasks and/or process properties that are eligible to be automated using RPA.\n",
    "## Load Requirements"
   ]
  },
  {
   "cell_type": "code",
   "execution_count": 1,
   "metadata": {},
   "outputs": [],
   "source": [
    "import os, sys, random, re \n",
    "import pandas as pd\n",
    "import numpy as np\n",
    "# Importing IEEE XES files \n",
    "from pm4py.objects.log.importer.xes import factory as xes_import_factory\n",
    "# Apply PCA + DBSCAN clustering after creating a representation of the log; used in clusterlog()\n",
    "from pm4pyclustering.algo.other.clustering import factory as clusterer \n",
    "# Retrieve the number of occurrences of the activities; used in execFreq()\n",
    "from pm4py.algo.filtering.log.attributes import attributes_filter\n",
    "# Retrieve variants and the number of occurence; used in execFreqCase()\n",
    "from pm4py.statistics.traces.log import case_statistics\n",
    "# Converts a log to interval format (e.g. an event has two timestamps) \n",
    "# from lifecycle format (an event has only a timestamp, and a transition lifecycle); used in execTime()\n",
    "from pm4py.objects.log.util import interval_lifecycle\n",
    "# Get the paths (pair activities) of the log along with their count; used in priorFollowVar()\n",
    "from pm4py.algo.filtering.log.paths import paths_filter \n",
    "# get the functions defined \n",
    "from pm4RPA import clusterlog, getIndicators"
   ]
  },
  {
   "cell_type": "markdown",
   "metadata": {},
   "source": [
    "## Import XES file"
   ]
  },
  {
   "cell_type": "code",
   "execution_count": 2,
   "metadata": {},
   "outputs": [
    {
     "name": "stdout",
     "output_type": "stream",
     "text": [
      "Event log loaded with number of traces: 13087\n"
     ]
    }
   ],
   "source": [
    "path = \"..\"\n",
    "os.chdir(path)\n",
    "filexes = \"financial_log.xes\"\n",
    "log = xes_import_factory.apply(os.path.join(os.getcwd(), \"data\", filexes))\n",
    "print(\"Event log loaded with number of traces:\", len(log))"
   ]
  },
  {
   "cell_type": "markdown",
   "metadata": {},
   "source": [
    "## Apply trace clustering\n",
    "We transform the log to a log representation, using the string event attribute *concept:name* and the string trace attribute *AMOUNT\\_REQ*. Clusters are obtained using *DBSCAN*, with $\\epsilon$ parameter equal to $0.3$ and *MinPts* equal to $5$, applied to *PCA* projected data using 3 components."
   ]
  },
  {
   "cell_type": "code",
   "execution_count": 3,
   "metadata": {},
   "outputs": [
    {
     "name": "stdout",
     "output_type": "stream",
     "text": [
      "Apply PCA + DBSCAN clustering from log representation obtained using  {'str_ev_attr': 'concept:name', 'str_tr_attr': 'AMOUNT_REQ'}\n",
      "sublog 0  has  2369  traces\n",
      "sublog 1  has  3480  traces\n",
      "sublog 2  has  1216  traces\n",
      "sublog 3  has  1131  traces\n",
      "sublog 4  has  2225  traces\n",
      "sublog 5  has  494  traces\n",
      "sublog 6  has  1266  traces\n",
      "sublog 7  has  883  traces\n",
      "sublog 8  has  12  traces\n",
      "sublog 9  has  5  traces\n",
      "sublog 10  has  6  traces\n"
     ]
    }
   ],
   "source": [
    "clusterParams = {\"str_ev_attr\" : \"concept:name\", \"str_tr_attr\" :\"AMOUNT_REQ\" }\n",
    "clusters = clusterlog(log,clusterParams)"
   ]
  },
  {
   "cell_type": "markdown",
   "metadata": {},
   "source": [
    "## Obtain all indicators\n",
    "* Execution Frequency\n",
    "* Execution Frequency:case\n",
    "* Execution Time\n",
    "* Inverse Stability\n",
    "* Prior/follow variability \n",
    "\n",
    "All indicators are calculated at an activity cluster level."
   ]
  },
  {
   "cell_type": "code",
   "execution_count": 4,
   "metadata": {},
   "outputs": [
    {
     "name": "stdout",
     "output_type": "stream",
     "text": [
      "Calculating Execution Frequency & Execution Frequency:case\n",
      "Calculating Execution Time & Inverse Stability\n",
      "Calculating Prior/follow variability\n"
     ]
    }
   ],
   "source": [
    "activityKey = 'concept:name'\n",
    "indicators = getIndicators(clusters, activityKey)"
   ]
  },
  {
   "cell_type": "markdown",
   "metadata": {},
   "source": [
    "### Execution Frequency & Execution Frequency:case\n",
    "Activities repeated often, i.e. those having high $EF(L^v)$ are candidates for RPA, however, those having a high $EF_{c}(L^v)$ should be investigated to understand the root causes of the repeats. "
   ]
  },
  {
   "cell_type": "code",
   "execution_count": 5,
   "metadata": {},
   "outputs": [
    {
     "data": {
      "text/html": [
       "<div>\n",
       "<style scoped>\n",
       "    .dataframe tbody tr th:only-of-type {\n",
       "        vertical-align: middle;\n",
       "    }\n",
       "\n",
       "    .dataframe tbody tr th {\n",
       "        vertical-align: top;\n",
       "    }\n",
       "\n",
       "    .dataframe thead th {\n",
       "        text-align: right;\n",
       "    }\n",
       "</style>\n",
       "<table border=\"1\" class=\"dataframe\">\n",
       "  <thead>\n",
       "    <tr style=\"text-align: right;\">\n",
       "      <th></th>\n",
       "      <th>ntop3</th>\n",
       "      <th>mean_EFc_pct_rank</th>\n",
       "    </tr>\n",
       "    <tr>\n",
       "      <th>activity</th>\n",
       "      <th></th>\n",
       "      <th></th>\n",
       "    </tr>\n",
       "  </thead>\n",
       "  <tbody>\n",
       "    <tr>\n",
       "      <td>W_Afhandelen leads</td>\n",
       "      <td>6</td>\n",
       "      <td>0.913510</td>\n",
       "    </tr>\n",
       "    <tr>\n",
       "      <td>A_PARTLYSUBMITTED</td>\n",
       "      <td>5</td>\n",
       "      <td>0.651515</td>\n",
       "    </tr>\n",
       "    <tr>\n",
       "      <td>W_Completeren aanvraag</td>\n",
       "      <td>5</td>\n",
       "      <td>0.956818</td>\n",
       "    </tr>\n",
       "    <tr>\n",
       "      <td>W_Nabellen offertes</td>\n",
       "      <td>4</td>\n",
       "      <td>0.966856</td>\n",
       "    </tr>\n",
       "    <tr>\n",
       "      <td>W_Beoordelen fraude</td>\n",
       "      <td>3</td>\n",
       "      <td>0.951389</td>\n",
       "    </tr>\n",
       "    <tr>\n",
       "      <td>A_DECLINED</td>\n",
       "      <td>2</td>\n",
       "      <td>0.651515</td>\n",
       "    </tr>\n",
       "    <tr>\n",
       "      <td>A_SUBMITTED</td>\n",
       "      <td>2</td>\n",
       "      <td>0.651515</td>\n",
       "    </tr>\n",
       "    <tr>\n",
       "      <td>W_Nabellen incomplete dossiers</td>\n",
       "      <td>2</td>\n",
       "      <td>0.994318</td>\n",
       "    </tr>\n",
       "    <tr>\n",
       "      <td>W_Valideren aanvraag</td>\n",
       "      <td>2</td>\n",
       "      <td>0.935606</td>\n",
       "    </tr>\n",
       "    <tr>\n",
       "      <td>A_PREACCEPTED</td>\n",
       "      <td>1</td>\n",
       "      <td>0.651515</td>\n",
       "    </tr>\n",
       "    <tr>\n",
       "      <td>O_SENT</td>\n",
       "      <td>1</td>\n",
       "      <td>0.821970</td>\n",
       "    </tr>\n",
       "  </tbody>\n",
       "</table>\n",
       "</div>"
      ],
      "text/plain": [
       "                                ntop3  mean_EFc_pct_rank\n",
       "activity                                                \n",
       "W_Afhandelen leads                  6           0.913510\n",
       "A_PARTLYSUBMITTED                   5           0.651515\n",
       "W_Completeren aanvraag              5           0.956818\n",
       "W_Nabellen offertes                 4           0.966856\n",
       "W_Beoordelen fraude                 3           0.951389\n",
       "A_DECLINED                          2           0.651515\n",
       "A_SUBMITTED                         2           0.651515\n",
       "W_Nabellen incomplete dossiers      2           0.994318\n",
       "W_Valideren aanvraag                2           0.935606\n",
       "A_PREACCEPTED                       1           0.651515\n",
       "O_SENT                              1           0.821970"
      ]
     },
     "execution_count": 5,
     "metadata": {},
     "output_type": "execute_result"
    }
   ],
   "source": [
    "# get dataframe sorted by Execution Frequency in each cluster \n",
    "indicators = indicators.groupby([\"cluster\"]).apply(lambda x: x.sort_values([\"EF\"], ascending = False)).reset_index(drop=True)\n",
    "# get percentile rank for Execution Frequency: case\n",
    "indicators['EFc_pct_rank'] = indicators['EFc'].rank(pct=True)\n",
    "# select top N rows within each cluster\n",
    "top3 = indicators.groupby('cluster').head(3)\n",
    "indicators = indicators.drop(['EFc_pct_rank'], axis=1)\n",
    "top3.groupby('activity').agg(ntop3=('activity', 'count'), mean_EFc_pct_rank=('EFc_pct_rank', 'mean')).sort_values(by=['ntop3'], ascending=False)"
   ]
  },
  {
   "cell_type": "markdown",
   "metadata": {},
   "source": [
    "To this extent, W_Afhandelen leads is good candidate for RPA since it found 6 times in the top 3 per cluster ranking of the Execution Frequency. Nevertheless, it has a high value of the $EF_{c}(L^v)$ as per the mean percentile obtained, so it should be investigated.\n",
    "### Execution Time"
   ]
  },
  {
   "cell_type": "code",
   "execution_count": 6,
   "metadata": {},
   "outputs": [
    {
     "data": {
      "text/html": [
       "<div>\n",
       "<style scoped>\n",
       "    .dataframe tbody tr th:only-of-type {\n",
       "        vertical-align: middle;\n",
       "    }\n",
       "\n",
       "    .dataframe tbody tr th {\n",
       "        vertical-align: top;\n",
       "    }\n",
       "\n",
       "    .dataframe thead th {\n",
       "        text-align: right;\n",
       "    }\n",
       "</style>\n",
       "<table border=\"1\" class=\"dataframe\">\n",
       "  <thead>\n",
       "    <tr style=\"text-align: right;\">\n",
       "      <th></th>\n",
       "      <th>ntop3</th>\n",
       "      <th>mean_ET</th>\n",
       "    </tr>\n",
       "    <tr>\n",
       "      <th>activity</th>\n",
       "      <th></th>\n",
       "      <th></th>\n",
       "    </tr>\n",
       "  </thead>\n",
       "  <tbody>\n",
       "    <tr>\n",
       "      <td>W_Afhandelen leads</td>\n",
       "      <td>6</td>\n",
       "      <td>759.472013</td>\n",
       "    </tr>\n",
       "    <tr>\n",
       "      <td>W_Completeren aanvraag</td>\n",
       "      <td>6</td>\n",
       "      <td>497.565926</td>\n",
       "    </tr>\n",
       "    <tr>\n",
       "      <td>W_Beoordelen fraude</td>\n",
       "      <td>4</td>\n",
       "      <td>785.285698</td>\n",
       "    </tr>\n",
       "    <tr>\n",
       "      <td>W_Valideren aanvraag</td>\n",
       "      <td>4</td>\n",
       "      <td>1025.984939</td>\n",
       "    </tr>\n",
       "    <tr>\n",
       "      <td>A_FINALIZED</td>\n",
       "      <td>3</td>\n",
       "      <td>0.000000</td>\n",
       "    </tr>\n",
       "    <tr>\n",
       "      <td>W_Nabellen incomplete dossiers</td>\n",
       "      <td>3</td>\n",
       "      <td>654.383205</td>\n",
       "    </tr>\n",
       "    <tr>\n",
       "      <td>W_Nabellen offertes</td>\n",
       "      <td>2</td>\n",
       "      <td>547.069593</td>\n",
       "    </tr>\n",
       "    <tr>\n",
       "      <td>A_ACTIVATED</td>\n",
       "      <td>1</td>\n",
       "      <td>0.000000</td>\n",
       "    </tr>\n",
       "    <tr>\n",
       "      <td>A_PARTLYSUBMITTED</td>\n",
       "      <td>1</td>\n",
       "      <td>0.000000</td>\n",
       "    </tr>\n",
       "    <tr>\n",
       "      <td>A_SUBMITTED</td>\n",
       "      <td>1</td>\n",
       "      <td>0.000000</td>\n",
       "    </tr>\n",
       "    <tr>\n",
       "      <td>O_CREATED</td>\n",
       "      <td>1</td>\n",
       "      <td>0.000000</td>\n",
       "    </tr>\n",
       "    <tr>\n",
       "      <td>O_SENT_BACK</td>\n",
       "      <td>1</td>\n",
       "      <td>0.000000</td>\n",
       "    </tr>\n",
       "  </tbody>\n",
       "</table>\n",
       "</div>"
      ],
      "text/plain": [
       "                                ntop3      mean_ET\n",
       "activity                                          \n",
       "W_Afhandelen leads                  6   759.472013\n",
       "W_Completeren aanvraag              6   497.565926\n",
       "W_Beoordelen fraude                 4   785.285698\n",
       "W_Valideren aanvraag                4  1025.984939\n",
       "A_FINALIZED                         3     0.000000\n",
       "W_Nabellen incomplete dossiers      3   654.383205\n",
       "W_Nabellen offertes                 2   547.069593\n",
       "A_ACTIVATED                         1     0.000000\n",
       "A_PARTLYSUBMITTED                   1     0.000000\n",
       "A_SUBMITTED                         1     0.000000\n",
       "O_CREATED                           1     0.000000\n",
       "O_SENT_BACK                         1     0.000000"
      ]
     },
     "execution_count": 6,
     "metadata": {},
     "output_type": "execute_result"
    }
   ],
   "source": [
    "# get dataframe sorted by Execution Time in each cluster \n",
    "indicators = indicators.groupby([\"cluster\"]).apply(lambda x: x.sort_values([\"ET\"], ascending = False)).reset_index(drop=True)\n",
    "# select top N rows within each cluster\n",
    "top3 = indicators.groupby('cluster').head(3)\n",
    "top3.groupby('activity').agg(ntop3=('activity', 'count'), mean_ET=('ET', 'mean')).sort_values(by=['ntop3'], ascending=False)"
   ]
  },
  {
   "cell_type": "markdown",
   "metadata": {},
   "source": [
    "### Inverse Stability"
   ]
  },
  {
   "cell_type": "code",
   "execution_count": 8,
   "metadata": {},
   "outputs": [
    {
     "data": {
      "text/html": [
       "<div>\n",
       "<style scoped>\n",
       "    .dataframe tbody tr th:only-of-type {\n",
       "        vertical-align: middle;\n",
       "    }\n",
       "\n",
       "    .dataframe tbody tr th {\n",
       "        vertical-align: top;\n",
       "    }\n",
       "\n",
       "    .dataframe thead th {\n",
       "        text-align: right;\n",
       "    }\n",
       "</style>\n",
       "<table border=\"1\" class=\"dataframe\">\n",
       "  <thead>\n",
       "    <tr style=\"text-align: right;\">\n",
       "      <th></th>\n",
       "      <th>ntop3</th>\n",
       "      <th>mean_ST</th>\n",
       "    </tr>\n",
       "    <tr>\n",
       "      <th>activity</th>\n",
       "      <th></th>\n",
       "      <th></th>\n",
       "    </tr>\n",
       "  </thead>\n",
       "  <tbody>\n",
       "    <tr>\n",
       "      <td>W_Afhandelen leads</td>\n",
       "      <td>6</td>\n",
       "      <td>26264.128995</td>\n",
       "    </tr>\n",
       "    <tr>\n",
       "      <td>W_Completeren aanvraag</td>\n",
       "      <td>5</td>\n",
       "      <td>14537.728531</td>\n",
       "    </tr>\n",
       "    <tr>\n",
       "      <td>W_Beoordelen fraude</td>\n",
       "      <td>4</td>\n",
       "      <td>12511.429388</td>\n",
       "    </tr>\n",
       "    <tr>\n",
       "      <td>W_Nabellen offertes</td>\n",
       "      <td>4</td>\n",
       "      <td>43293.328912</td>\n",
       "    </tr>\n",
       "    <tr>\n",
       "      <td>A_FINALIZED</td>\n",
       "      <td>3</td>\n",
       "      <td>0.000000</td>\n",
       "    </tr>\n",
       "    <tr>\n",
       "      <td>W_Nabellen incomplete dossiers</td>\n",
       "      <td>3</td>\n",
       "      <td>26757.396738</td>\n",
       "    </tr>\n",
       "    <tr>\n",
       "      <td>W_Valideren aanvraag</td>\n",
       "      <td>3</td>\n",
       "      <td>3546.361596</td>\n",
       "    </tr>\n",
       "    <tr>\n",
       "      <td>A_ACTIVATED</td>\n",
       "      <td>1</td>\n",
       "      <td>0.000000</td>\n",
       "    </tr>\n",
       "    <tr>\n",
       "      <td>A_PARTLYSUBMITTED</td>\n",
       "      <td>1</td>\n",
       "      <td>0.000000</td>\n",
       "    </tr>\n",
       "    <tr>\n",
       "      <td>A_SUBMITTED</td>\n",
       "      <td>1</td>\n",
       "      <td>0.000000</td>\n",
       "    </tr>\n",
       "    <tr>\n",
       "      <td>O_CREATED</td>\n",
       "      <td>1</td>\n",
       "      <td>0.000000</td>\n",
       "    </tr>\n",
       "    <tr>\n",
       "      <td>O_SENT_BACK</td>\n",
       "      <td>1</td>\n",
       "      <td>0.000000</td>\n",
       "    </tr>\n",
       "  </tbody>\n",
       "</table>\n",
       "</div>"
      ],
      "text/plain": [
       "                                ntop3       mean_ST\n",
       "activity                                           \n",
       "W_Afhandelen leads                  6  26264.128995\n",
       "W_Completeren aanvraag              5  14537.728531\n",
       "W_Beoordelen fraude                 4  12511.429388\n",
       "W_Nabellen offertes                 4  43293.328912\n",
       "A_FINALIZED                         3      0.000000\n",
       "W_Nabellen incomplete dossiers      3  26757.396738\n",
       "W_Valideren aanvraag                3   3546.361596\n",
       "A_ACTIVATED                         1      0.000000\n",
       "A_PARTLYSUBMITTED                   1      0.000000\n",
       "A_SUBMITTED                         1      0.000000\n",
       "O_CREATED                           1      0.000000\n",
       "O_SENT_BACK                         1      0.000000"
      ]
     },
     "execution_count": 8,
     "metadata": {},
     "output_type": "execute_result"
    }
   ],
   "source": [
    "# get dataframe sorted by Execution Time in each cluster \n",
    "indicators = indicators.groupby([\"cluster\"]).apply(lambda x: x.sort_values([\"ST\"], ascending = False)).reset_index(drop=True)\n",
    "# select top N rows within each cluster\n",
    "top3 = indicators.groupby('cluster').head(3)\n",
    "top3.groupby('activity').agg(ntop3=('activity', 'count'), mean_ST=('ST', 'mean')).sort_values(by=['ntop3'], ascending=False)"
   ]
  },
  {
   "cell_type": "markdown",
   "metadata": {},
   "source": [
    "### Prior/follow variability"
   ]
  },
  {
   "cell_type": "code",
   "execution_count": 9,
   "metadata": {},
   "outputs": [
    {
     "data": {
      "text/html": [
       "<div>\n",
       "<style scoped>\n",
       "    .dataframe tbody tr th:only-of-type {\n",
       "        vertical-align: middle;\n",
       "    }\n",
       "\n",
       "    .dataframe tbody tr th {\n",
       "        vertical-align: top;\n",
       "    }\n",
       "\n",
       "    .dataframe thead th {\n",
       "        text-align: right;\n",
       "    }\n",
       "</style>\n",
       "<table border=\"1\" class=\"dataframe\">\n",
       "  <thead>\n",
       "    <tr style=\"text-align: right;\">\n",
       "      <th></th>\n",
       "      <th>ntop3</th>\n",
       "      <th>mean_PFv</th>\n",
       "    </tr>\n",
       "    <tr>\n",
       "      <th>activity</th>\n",
       "      <th></th>\n",
       "      <th></th>\n",
       "    </tr>\n",
       "  </thead>\n",
       "  <tbody>\n",
       "    <tr>\n",
       "      <td>A_PARTLYSUBMITTED</td>\n",
       "      <td>10</td>\n",
       "      <td>1.949267</td>\n",
       "    </tr>\n",
       "    <tr>\n",
       "      <td>A_PREACCEPTED</td>\n",
       "      <td>6</td>\n",
       "      <td>2.000000</td>\n",
       "    </tr>\n",
       "    <tr>\n",
       "      <td>A_DECLINED</td>\n",
       "      <td>5</td>\n",
       "      <td>1.796574</td>\n",
       "    </tr>\n",
       "    <tr>\n",
       "      <td>O_SENT</td>\n",
       "      <td>2</td>\n",
       "      <td>2.000000</td>\n",
       "    </tr>\n",
       "    <tr>\n",
       "      <td>O_SENT_BACK</td>\n",
       "      <td>2</td>\n",
       "      <td>1.471237</td>\n",
       "    </tr>\n",
       "    <tr>\n",
       "      <td>W_Beoordelen fraude</td>\n",
       "      <td>2</td>\n",
       "      <td>1.325000</td>\n",
       "    </tr>\n",
       "    <tr>\n",
       "      <td>A_CANCELLED</td>\n",
       "      <td>1</td>\n",
       "      <td>1.476623</td>\n",
       "    </tr>\n",
       "    <tr>\n",
       "      <td>A_REGISTERED</td>\n",
       "      <td>1</td>\n",
       "      <td>2.000000</td>\n",
       "    </tr>\n",
       "    <tr>\n",
       "      <td>A_SUBMITTED</td>\n",
       "      <td>1</td>\n",
       "      <td>1.000000</td>\n",
       "    </tr>\n",
       "    <tr>\n",
       "      <td>O_ACCEPTED</td>\n",
       "      <td>1</td>\n",
       "      <td>2.000000</td>\n",
       "    </tr>\n",
       "    <tr>\n",
       "      <td>W_Afhandelen leads</td>\n",
       "      <td>1</td>\n",
       "      <td>1.250000</td>\n",
       "    </tr>\n",
       "    <tr>\n",
       "      <td>W_Nabellen incomplete dossiers</td>\n",
       "      <td>1</td>\n",
       "      <td>2.000000</td>\n",
       "    </tr>\n",
       "  </tbody>\n",
       "</table>\n",
       "</div>"
      ],
      "text/plain": [
       "                                ntop3  mean_PFv\n",
       "activity                                       \n",
       "A_PARTLYSUBMITTED                  10  1.949267\n",
       "A_PREACCEPTED                       6  2.000000\n",
       "A_DECLINED                          5  1.796574\n",
       "O_SENT                              2  2.000000\n",
       "O_SENT_BACK                         2  1.471237\n",
       "W_Beoordelen fraude                 2  1.325000\n",
       "A_CANCELLED                         1  1.476623\n",
       "A_REGISTERED                        1  2.000000\n",
       "A_SUBMITTED                         1  1.000000\n",
       "O_ACCEPTED                          1  2.000000\n",
       "W_Afhandelen leads                  1  1.250000\n",
       "W_Nabellen incomplete dossiers      1  2.000000"
      ]
     },
     "execution_count": 9,
     "metadata": {},
     "output_type": "execute_result"
    }
   ],
   "source": [
    "# get dataframe sorted by Execution Time in each cluster \n",
    "indicators = indicators.groupby([\"cluster\"]).apply(lambda x: x.sort_values([\"PFv\"], ascending = False)).reset_index(drop=True)\n",
    "# select top N rows within each cluster\n",
    "top3 = indicators.groupby('cluster').head(3)\n",
    "top3.groupby('activity').agg(ntop3=('activity', 'count'), mean_PFv=('PFv', 'mean')).sort_values(by=['ntop3'], ascending=False)"
   ]
  },
  {
   "cell_type": "markdown",
   "metadata": {},
   "source": [
    "## Processes"
   ]
  },
  {
   "cell_type": "code",
   "execution_count": 10,
   "metadata": {},
   "outputs": [],
   "source": [
    "# get percentile rank for Execution Frequency: case\n",
    "indicators = indicators.drop(['EFc_pct_rank'], axis=1)"
   ]
  },
  {
   "cell_type": "code",
   "execution_count": 11,
   "metadata": {},
   "outputs": [
    {
     "data": {
      "text/html": [
       "<div>\n",
       "<style scoped>\n",
       "    .dataframe tbody tr th:only-of-type {\n",
       "        vertical-align: middle;\n",
       "    }\n",
       "\n",
       "    .dataframe tbody tr th {\n",
       "        vertical-align: top;\n",
       "    }\n",
       "\n",
       "    .dataframe thead th {\n",
       "        text-align: right;\n",
       "    }\n",
       "</style>\n",
       "<table border=\"1\" class=\"dataframe\">\n",
       "  <thead>\n",
       "    <tr style=\"text-align: right;\">\n",
       "      <th></th>\n",
       "      <th>mean_EF</th>\n",
       "      <th>mean_EFc</th>\n",
       "      <th>mean_ET</th>\n",
       "      <th>mean_ST</th>\n",
       "      <th>mean_PFv</th>\n",
       "    </tr>\n",
       "    <tr>\n",
       "      <th>cluster</th>\n",
       "      <th></th>\n",
       "      <th></th>\n",
       "      <th></th>\n",
       "      <th></th>\n",
       "      <th></th>\n",
       "    </tr>\n",
       "  </thead>\n",
       "  <tbody>\n",
       "    <tr>\n",
       "      <td>0</td>\n",
       "      <td>4144.833333</td>\n",
       "      <td>2.518479</td>\n",
       "      <td>128.495952</td>\n",
       "      <td>3720.003017</td>\n",
       "      <td>0.653704</td>\n",
       "    </tr>\n",
       "    <tr>\n",
       "      <td>1</td>\n",
       "      <td>448.375000</td>\n",
       "      <td>0.387255</td>\n",
       "      <td>27.427755</td>\n",
       "      <td>1156.915385</td>\n",
       "      <td>0.218139</td>\n",
       "    </tr>\n",
       "    <tr>\n",
       "      <td>2</td>\n",
       "      <td>774.500000</td>\n",
       "      <td>0.927837</td>\n",
       "      <td>34.211995</td>\n",
       "      <td>1572.573778</td>\n",
       "      <td>0.389044</td>\n",
       "    </tr>\n",
       "    <tr>\n",
       "      <td>3</td>\n",
       "      <td>845.250000</td>\n",
       "      <td>0.830386</td>\n",
       "      <td>65.134304</td>\n",
       "      <td>2330.061016</td>\n",
       "      <td>0.408964</td>\n",
       "    </tr>\n",
       "    <tr>\n",
       "      <td>4</td>\n",
       "      <td>596.750000</td>\n",
       "      <td>0.268202</td>\n",
       "      <td>42.160391</td>\n",
       "      <td>1137.682256</td>\n",
       "      <td>0.260417</td>\n",
       "    </tr>\n",
       "    <tr>\n",
       "      <td>5</td>\n",
       "      <td>719.250000</td>\n",
       "      <td>1.548413</td>\n",
       "      <td>80.394800</td>\n",
       "      <td>4305.542788</td>\n",
       "      <td>0.536005</td>\n",
       "    </tr>\n",
       "    <tr>\n",
       "      <td>6</td>\n",
       "      <td>1592.666667</td>\n",
       "      <td>1.351586</td>\n",
       "      <td>46.870979</td>\n",
       "      <td>2535.026290</td>\n",
       "      <td>0.520823</td>\n",
       "    </tr>\n",
       "    <tr>\n",
       "      <td>7</td>\n",
       "      <td>1775.208333</td>\n",
       "      <td>2.800161</td>\n",
       "      <td>187.516728</td>\n",
       "      <td>6326.374625</td>\n",
       "      <td>0.630773</td>\n",
       "    </tr>\n",
       "    <tr>\n",
       "      <td>8</td>\n",
       "      <td>19.458333</td>\n",
       "      <td>3.732008</td>\n",
       "      <td>101.138468</td>\n",
       "      <td>42.602996</td>\n",
       "      <td>1.199758</td>\n",
       "    </tr>\n",
       "    <tr>\n",
       "      <td>9</td>\n",
       "      <td>5.875000</td>\n",
       "      <td>1.175000</td>\n",
       "      <td>113.293629</td>\n",
       "      <td>1036.226049</td>\n",
       "      <td>0.300694</td>\n",
       "    </tr>\n",
       "    <tr>\n",
       "      <td>10</td>\n",
       "      <td>2.833333</td>\n",
       "      <td>0.548611</td>\n",
       "      <td>7.694842</td>\n",
       "      <td>10.967141</td>\n",
       "      <td>0.262942</td>\n",
       "    </tr>\n",
       "  </tbody>\n",
       "</table>\n",
       "</div>"
      ],
      "text/plain": [
       "             mean_EF  mean_EFc     mean_ET      mean_ST  mean_PFv\n",
       "cluster                                                          \n",
       "0        4144.833333  2.518479  128.495952  3720.003017  0.653704\n",
       "1         448.375000  0.387255   27.427755  1156.915385  0.218139\n",
       "2         774.500000  0.927837   34.211995  1572.573778  0.389044\n",
       "3         845.250000  0.830386   65.134304  2330.061016  0.408964\n",
       "4         596.750000  0.268202   42.160391  1137.682256  0.260417\n",
       "5         719.250000  1.548413   80.394800  4305.542788  0.536005\n",
       "6        1592.666667  1.351586   46.870979  2535.026290  0.520823\n",
       "7        1775.208333  2.800161  187.516728  6326.374625  0.630773\n",
       "8          19.458333  3.732008  101.138468    42.602996  1.199758\n",
       "9           5.875000  1.175000  113.293629  1036.226049  0.300694\n",
       "10          2.833333  0.548611    7.694842    10.967141  0.262942"
      ]
     },
     "execution_count": 11,
     "metadata": {},
     "output_type": "execute_result"
    }
   ],
   "source": [
    "indicators.groupby([\"cluster\"]).agg(mean_EF=('EF', 'mean'), \n",
    "                                    mean_EFc=('EFc', 'mean'), \n",
    "                                    mean_ET=('ET', 'mean'),\n",
    "                                    mean_ST=('ST', 'mean'), \n",
    "                                    mean_PFv=('PFv', 'mean'))"
   ]
  },
  {
   "cell_type": "code",
   "execution_count": 27,
   "metadata": {},
   "outputs": [
    {
     "data": {
      "text/plain": [
       "<matplotlib.axes._subplots.AxesSubplot at 0x7fcb839b3cd0>"
      ]
     },
     "execution_count": 27,
     "metadata": {},
     "output_type": "execute_result"
    },
    {
     "data": {
      "image/png": "[encoded data removed]",
      "text/plain": [
       "<Figure size 576x432 with 1 Axes>"
      ]
     },
     "metadata": {
      "needs_background": "light"
     },
     "output_type": "display_data"
    }
   ],
   "source": [
    "indicators.drop(['ST','EF','ET','EFc'], axis=1).boxplot(by='cluster',fontsize=10,rot=90,figsize=(8,6),patch_artist=True)"
   ]
  },
  {
   "cell_type": "code",
   "execution_count": 32,
   "metadata": {},
   "outputs": [
    {
     "data": {
      "text/plain": [
       "<matplotlib.axes._subplots.AxesSubplot at 0x7fcb86679110>"
      ]
     },
     "execution_count": 32,
     "metadata": {},
     "output_type": "execute_result"
    },
    {
     "data": {
      "image/png": "[encoded data removed]",
      "text/plain": [
       "<Figure size 576x432 with 1 Axes>"
      ]
     },
     "metadata": {
      "needs_background": "light"
     },
     "output_type": "display_data"
    }
   ],
   "source": [
    "indicators.drop(['PFv','EFc','ET','ST'], axis=1).boxplot(by='cluster',fontsize=10,rot=90,figsize=(8,6),patch_artist=True)"
   ]
  },
  {
   "cell_type": "code",
   "execution_count": 33,
   "metadata": {},
   "outputs": [
    {
     "data": {
      "text/plain": [
       "<matplotlib.axes._subplots.AxesSubplot at 0x7fcb86ab6350>"
      ]
     },
     "execution_count": 33,
     "metadata": {},
     "output_type": "execute_result"
    },
    {
     "data": {
      "image/png": "[encoded data removed]",
      "text/plain": [
       "<Figure size 576x432 with 1 Axes>"
      ]
     },
     "metadata": {
      "needs_background": "light"
     },
     "output_type": "display_data"
    }
   ],
   "source": [
    "indicators.drop(['PFv','EF','ET','ST'], axis=1).boxplot(by='cluster',fontsize=10,rot=90,figsize=(8,6),patch_artist=True)"
   ]
  },
  {
   "cell_type": "code",
   "execution_count": 34,
   "metadata": {},
   "outputs": [
    {
     "data": {
      "text/plain": [
       "<matplotlib.axes._subplots.AxesSubplot at 0x7fcb86ea3510>"
      ]
     },
     "execution_count": 34,
     "metadata": {},
     "output_type": "execute_result"
    },
    {
     "data": {
      "image/png": "[encoded data removed]",
      "text/plain": [
       "<Figure size 576x432 with 1 Axes>"
      ]
     },
     "metadata": {
      "needs_background": "light"
     },
     "output_type": "display_data"
    }
   ],
   "source": [
    "indicators.drop(['PFv','EF','EFc','ST'], axis=1).boxplot(by='cluster',fontsize=10,rot=90,figsize=(8,6),patch_artist=True)"
   ]
  },
  {
   "cell_type": "code",
   "execution_count": 35,
   "metadata": {},
   "outputs": [
    {
     "data": {
      "text/plain": [
       "<matplotlib.axes._subplots.AxesSubplot at 0x7fcb87193210>"
      ]
     },
     "execution_count": 35,
     "metadata": {},
     "output_type": "execute_result"
    },
    {
     "data": {
      "image/png": "[encoded data removed]",
      "text/plain": [
       "<Figure size 576x432 with 1 Axes>"
      ]
     },
     "metadata": {
      "needs_background": "light"
     },
     "output_type": "display_data"
    }
   ],
   "source": [
    "indicators.drop(['PFv','EF','EFc','ET'], axis=1).boxplot(by='cluster',fontsize=10,rot=90,figsize=(8,6),patch_artist=True)"
   ]
  },
  {
   "cell_type": "code",
   "execution_count": null,
   "metadata": {},
   "outputs": [],
   "source": []
  }
 ],
 "metadata": {
  "kernelspec": {
   "display_name": "Python 3",
   "language": "python",
   "name": "python3"
  },
  "language_info": {
   "codemirror_mode": {
    "name": "ipython",
    "version": 3
   },
   "file_extension": ".py",
   "mimetype": "text/x-python",
   "name": "python",
   "nbconvert_exporter": "python",
   "pygments_lexer": "ipython3",
   "version": "3.7.4"
  }
 },
 "nbformat": 4,
 "nbformat_minor": 2
}
